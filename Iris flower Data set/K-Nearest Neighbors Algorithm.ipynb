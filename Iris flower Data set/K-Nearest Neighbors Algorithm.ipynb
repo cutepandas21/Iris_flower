{
 "cells": [
  {
   "cell_type": "markdown",
   "metadata": {},
   "source": []
  },
  {
   "cell_type": "markdown",
   "metadata": {},
   "source": [
    "# Exercises"
   ]
  },
  {
   "cell_type": "markdown",
   "metadata": {},
   "source": [
    "**Complete every exercise in the Basic and Visualization, K-Nearest Neighbors Algorithm, and Logistic Regression sections.  Put every solution in its own file and push a folder containing all of your code to a Github repo. Submit the URL for that repo.**"
   ]
  },
  {
   "cell_type": "markdown",
   "metadata": {},
   "source": [
    "### [Python Machine Learning Iris flower Data Set](https://www.w3resource.com/machine-learning/scikit-learn/iris/index.php)"
   ]
  },
  {
   "cell_type": "markdown",
   "metadata": {},
   "source": [
    "Scikit-learn is a free software machine learning library for the Python programming language. It features various classification, regression and clustering algorithms including support vector machines, random forests, gradient boosting, k-means and DBSCAN, and is designed to interoperate with the Python numerical and scientific libraries NumPy and SciPy.\n",
    "\n",
    "The best way we learn anything is by practice and exercise questions. We have started this section for those (beginner to intermediate) who are familiar with Python, Scikit-learn. Hope, these exercises help you to improve your Machine learning skills using Scikit-learn. Currently, data set are available, we are working hard to add more exercises."
   ]
  },
  {
   "cell_type": "markdown",
   "metadata": {},
   "source": [
    "#### Iris Flower Data Set"
   ]
  },
  {
   "cell_type": "markdown",
   "metadata": {},
   "source": [
    "From Wikipedia - The Iris flower data set or Fisher's Iris data set is a multivariate data set introduced by the British statistician and biologist Ronald Fisher in his 1936 paper The use of multiple measurements in taxonomic problems as an example of linear discriminant analysis. It is sometimes called Anderson's Iris data set because Edgar Anderson collected the data to quantify the morphologic variation of Iris flowers of three related species. Two of the three species were collected in the Gaspé Peninsula \"all from the same pasture, and picked on the same day and measured at the same time by the same person with the same apparatus\"\n"
   ]
  },
  {
   "cell_type": "markdown",
   "metadata": {},
   "source": [
    "![image](images/iris.png)"
   ]
  },
  {
   "cell_type": "markdown",
   "metadata": {},
   "source": [
    "The data set consists of 50 samples from each of three species of Iris (Iris setosa, Iris virginica and Iris versicolor). Four features were measured from each sample: the length and the width of the sepals and petals, in centimeters. Based on the combination of these four features, Fisher developed a linear discriminant model to distinguish the species from each other."
   ]
  },
  {
   "cell_type": "markdown",
   "metadata": {},
   "source": [
    "### Exercise 1."
   ]
  },
  {
   "cell_type": "markdown",
   "metadata": {},
   "source": [
    "Write a Python program to load the iris data from a given csv file into a dataframe and print the shape of the data, type of the data and first 3 rows."
   ]
  },
  {
   "cell_type": "markdown",
   "metadata": {},
   "source": [
    "```files/exercise_A.1.py```"
   ]
  },
  {
   "cell_type": "code",
   "execution_count": 5,
   "metadata": {},
   "outputs": [
    {
     "name": "stdout",
     "output_type": "stream",
     "text": [
      "Shape of the data:\n",
      "(150, 5)\n",
      "\n",
      "Data Type:\n",
      "<class 'pandas.core.frame.DataFrame'>\n",
      "\n",
      "First 3 rows:\n",
      "   sepallength  sepalwidth  petallength  petalwidth    Name\n",
      "0          5.1         3.5          1.4         0.2  Setosa\n",
      "1          4.9         3.0          1.4         0.2  Setosa\n",
      "2          4.7         3.2          1.3         0.2  Setosa\n"
     ]
    }
   ],
   "source": [
    "import numpy as np\n",
    "import pandas as pd\n",
    "from scipy import sparse\n",
    "import matplotlib.pyplot as plt\n",
    "import seaborn as sns\n",
    "from mpl_toolkits.mplot3d import Axes3D\n",
    "from sklearn import decomposition\n",
    "from sklearn import preprocessing\n",
    "from sklearn.model_selection import train_test_split\n",
    "from sklearn.neighbors import KNeighborsClassifier\n",
    "from sklearn import metrics\n",
    "from sklearn.linear_model import LogisticRegression\n",
    "data = pd.read_csv(\"iris.csv\")\n",
    "print(\"Shape of the data:\")\n",
    "print(data.shape)\n",
    "print(\"\\nData Type:\")\n",
    "print(type(data))\n",
    "print(\"\\nFirst 3 rows:\")\n",
    "print(data.head(3))"
   ]
  },
  {
   "cell_type": "markdown",
   "metadata": {},
   "source": [
    "## C. K-Nearest Neighbors Algorithm in Iris flower data set"
   ]
  },
  {
   "cell_type": "markdown",
   "metadata": {},
   "source": [
    "From Wikipedia,\n",
    "\n",
    "```In pattern recognition, the k-nearest neighbors algorithm (k-NN) is a non-parametric method used for classification and regression.[1] In both cases, the input consists of the k closest training examples in the feature space. The output depends on whether k-NN is used for classification or regression:```\n",
    "\n",
    "- itemscope itemtype=\"http://schema.org/WebPageElement/Heading\"> In k-NN classification, the output is a class membership. An object is classified by a plurality vote of its neighbors, with the object being assigned to the class most common among its k nearest neighbors (k is a positive integer, typically small). If k = 1, then the object is simply assigned to the class of that single nearest neighbor.\n",
    "- itemscope itemtype=\"http://schema.org/WebPageElement/Heading\"> In k-NN regression, the output is the property value for the object. This value is the average of the values of k nearest neighbors."
   ]
  },
  {
   "cell_type": "markdown",
   "metadata": {},
   "source": [
    "![image](images/neighbors.png)"
   ]
  },
  {
   "cell_type": "markdown",
   "metadata": {},
   "source": [
    "Example of k-NN classification. The test sample (green dot) should be classified either to blue squares or to red triangles. If k = 3 (solid line circle) it is assigned to the red triangles because there are 2 triangles and only 1 square inside the inner circle. If k = 5 (dashed line circle) it is assigned to the blue squares (3 squares vs. 2 triangles inside the outer circle)."
   ]
  },
  {
   "cell_type": "markdown",
   "metadata": {},
   "source": [
    "### Exercise 1."
   ]
  },
  {
   "cell_type": "markdown",
   "metadata": {},
   "source": [
    "Write a Python program to split the iris dataset into its attributes (X) and labels (y). The X variable contains the first four columns (i.e. attributes) and y contains the labels of the dataset."
   ]
  },
  {
   "cell_type": "markdown",
   "metadata": {},
   "source": [
    "```files/exercise_C.1.py```"
   ]
  },
  {
   "cell_type": "code",
   "execution_count": 130,
   "metadata": {},
   "outputs": [
    {
     "name": "stdout",
     "output_type": "stream",
     "text": [
      "Attributes:\n",
      "[[5.1 3.5 1.4 0.2]\n",
      " [4.9 3.  1.4 0.2]\n",
      " [4.7 3.2 1.3 0.2]\n",
      " [4.6 3.1 1.5 0.2]\n",
      " [5.  3.6 1.4 0.2]\n",
      " [5.4 3.9 1.7 0.4]\n",
      " [4.6 3.4 1.4 0.3]\n",
      " [5.  3.4 1.5 0.2]\n",
      " [4.4 2.9 1.4 0.2]\n",
      " [4.9 3.1 1.5 0.1]\n",
      " [5.4 3.7 1.5 0.2]\n",
      " [4.8 3.4 1.6 0.2]\n",
      " [4.8 3.  1.4 0.1]\n",
      " [4.3 3.  1.1 0.1]\n",
      " [5.8 4.  1.2 0.2]\n",
      " [5.7 4.4 1.5 0.4]\n",
      " [5.4 3.9 1.3 0.4]\n",
      " [5.1 3.5 1.4 0.3]\n",
      " [5.7 3.8 1.7 0.3]\n",
      " [5.1 3.8 1.5 0.3]\n",
      " [5.4 3.4 1.7 0.2]\n",
      " [5.1 3.7 1.5 0.4]\n",
      " [4.6 3.6 1.  0.2]\n",
      " [5.1 3.3 1.7 0.5]\n",
      " [4.8 3.4 1.9 0.2]\n",
      " [5.  3.  1.6 0.2]\n",
      " [5.  3.4 1.6 0.4]\n",
      " [5.2 3.5 1.5 0.2]\n",
      " [5.2 3.4 1.4 0.2]\n",
      " [4.7 3.2 1.6 0.2]\n",
      " [4.8 3.1 1.6 0.2]\n",
      " [5.4 3.4 1.5 0.4]\n",
      " [5.2 4.1 1.5 0.1]\n",
      " [5.5 4.2 1.4 0.2]\n",
      " [4.9 3.1 1.5 0.1]\n",
      " [5.  3.2 1.2 0.2]\n",
      " [5.5 3.5 1.3 0.2]\n",
      " [4.9 3.1 1.5 0.1]\n",
      " [4.4 3.  1.3 0.2]\n",
      " [5.1 3.4 1.5 0.2]\n",
      " [5.  3.5 1.3 0.3]\n",
      " [4.5 2.3 1.3 0.3]\n",
      " [4.4 3.2 1.3 0.2]\n",
      " [5.  3.5 1.6 0.6]\n",
      " [5.1 3.8 1.9 0.4]\n",
      " [4.8 3.  1.4 0.3]\n",
      " [5.1 3.8 1.6 0.2]\n",
      " [4.6 3.2 1.4 0.2]\n",
      " [5.3 3.7 1.5 0.2]\n",
      " [5.  3.3 1.4 0.2]\n",
      " [7.  3.2 4.7 1.4]\n",
      " [6.4 3.2 4.5 1.5]\n",
      " [6.9 3.1 4.9 1.5]\n",
      " [5.5 2.3 4.  1.3]\n",
      " [6.5 2.8 4.6 1.5]\n",
      " [5.7 2.8 4.5 1.3]\n",
      " [6.3 3.3 4.7 1.6]\n",
      " [4.9 2.4 3.3 1. ]\n",
      " [6.6 2.9 4.6 1.3]\n",
      " [5.2 2.7 3.9 1.4]\n",
      " [5.  2.  3.5 1. ]\n",
      " [5.9 3.  4.2 1.5]\n",
      " [6.  2.2 4.  1. ]\n",
      " [6.1 2.9 4.7 1.4]\n",
      " [5.6 2.9 3.6 1.3]\n",
      " [6.7 3.1 4.4 1.4]\n",
      " [5.6 3.  4.5 1.5]\n",
      " [5.8 2.7 4.1 1. ]\n",
      " [6.2 2.2 4.5 1.5]\n",
      " [5.6 2.5 3.9 1.1]\n",
      " [5.9 3.2 4.8 1.8]\n",
      " [6.1 2.8 4.  1.3]\n",
      " [6.3 2.5 4.9 1.5]\n",
      " [6.1 2.8 4.7 1.2]\n",
      " [6.4 2.9 4.3 1.3]\n",
      " [6.6 3.  4.4 1.4]\n",
      " [6.8 2.8 4.8 1.4]\n",
      " [6.7 3.  5.  1.7]\n",
      " [6.  2.9 4.5 1.5]\n",
      " [5.7 2.6 3.5 1. ]\n",
      " [5.5 2.4 3.8 1.1]\n",
      " [5.5 2.4 3.7 1. ]\n",
      " [5.8 2.7 3.9 1.2]\n",
      " [6.  2.7 5.1 1.6]\n",
      " [5.4 3.  4.5 1.5]\n",
      " [6.  3.4 4.5 1.6]\n",
      " [6.7 3.1 4.7 1.5]\n",
      " [6.3 2.3 4.4 1.3]\n",
      " [5.6 3.  4.1 1.3]\n",
      " [5.5 2.5 4.  1.3]\n",
      " [5.5 2.6 4.4 1.2]\n",
      " [6.1 3.  4.6 1.4]\n",
      " [5.8 2.6 4.  1.2]\n",
      " [5.  2.3 3.3 1. ]\n",
      " [5.6 2.7 4.2 1.3]\n",
      " [5.7 3.  4.2 1.2]\n",
      " [5.7 2.9 4.2 1.3]\n",
      " [6.2 2.9 4.3 1.3]\n",
      " [5.1 2.5 3.  1.1]\n",
      " [5.7 2.8 4.1 1.3]\n",
      " [6.3 3.3 6.  2.5]\n",
      " [5.8 2.7 5.1 1.9]\n",
      " [7.1 3.  5.9 2.1]\n",
      " [6.3 2.9 5.6 1.8]\n",
      " [6.5 3.  5.8 2.2]\n",
      " [7.6 3.  6.6 2.1]\n",
      " [4.9 2.5 4.5 1.7]\n",
      " [7.3 2.9 6.3 1.8]\n",
      " [6.7 2.5 5.8 1.8]\n",
      " [7.2 3.6 6.1 2.5]\n",
      " [6.5 3.2 5.1 2. ]\n",
      " [6.4 2.7 5.3 1.9]\n",
      " [6.8 3.  5.5 2.1]\n",
      " [5.7 2.5 5.  2. ]\n",
      " [5.8 2.8 5.1 2.4]\n",
      " [6.4 3.2 5.3 2.3]\n",
      " [6.5 3.  5.5 1.8]\n",
      " [7.7 3.8 6.7 2.2]\n",
      " [7.7 2.6 6.9 2.3]\n",
      " [6.  2.2 5.  1.5]\n",
      " [6.9 3.2 5.7 2.3]\n",
      " [5.6 2.8 4.9 2. ]\n",
      " [7.7 2.8 6.7 2. ]\n",
      " [6.3 2.7 4.9 1.8]\n",
      " [6.7 3.3 5.7 2.1]\n",
      " [7.2 3.2 6.  1.8]\n",
      " [6.2 2.8 4.8 1.8]\n",
      " [6.1 3.  4.9 1.8]\n",
      " [6.4 2.8 5.6 2.1]\n",
      " [7.2 3.  5.8 1.6]\n",
      " [7.4 2.8 6.1 1.9]\n",
      " [7.9 3.8 6.4 2. ]\n",
      " [6.4 2.8 5.6 2.2]\n",
      " [6.3 2.8 5.1 1.5]\n",
      " [6.1 2.6 5.6 1.4]\n",
      " [7.7 3.  6.1 2.3]\n",
      " [6.3 3.4 5.6 2.4]\n",
      " [6.4 3.1 5.5 1.8]\n",
      " [6.  3.  4.8 1.8]\n",
      " [6.9 3.1 5.4 2.1]\n",
      " [6.7 3.1 5.6 2.4]\n",
      " [6.9 3.1 5.1 2.3]\n",
      " [5.8 2.7 5.1 1.9]\n",
      " [6.8 3.2 5.9 2.3]\n",
      " [6.7 3.3 5.7 2.5]\n",
      " [6.7 3.  5.2 2.3]\n",
      " [6.3 2.5 5.  1.9]\n",
      " [6.5 3.  5.2 2. ]\n",
      " [6.2 3.4 5.4 2.3]\n",
      " [5.9 3.  5.1 1.8]]\n",
      "\n",
      "Labels:\n",
      "['Iris-setosa' 'Iris-setosa' 'Iris-setosa' 'Iris-setosa' 'Iris-setosa'\n",
      " 'Iris-setosa' 'Iris-setosa' 'Iris-setosa' 'Iris-setosa' 'Iris-setosa'\n",
      " 'Iris-setosa' 'Iris-setosa' 'Iris-setosa' 'Iris-setosa' 'Iris-setosa'\n",
      " 'Iris-setosa' 'Iris-setosa' 'Iris-setosa' 'Iris-setosa' 'Iris-setosa'\n",
      " 'Iris-setosa' 'Iris-setosa' 'Iris-setosa' 'Iris-setosa' 'Iris-setosa'\n",
      " 'Iris-setosa' 'Iris-setosa' 'Iris-setosa' 'Iris-setosa' 'Iris-setosa'\n",
      " 'Iris-setosa' 'Iris-setosa' 'Iris-setosa' 'Iris-setosa' 'Iris-setosa'\n",
      " 'Iris-setosa' 'Iris-setosa' 'Iris-setosa' 'Iris-setosa' 'Iris-setosa'\n",
      " 'Iris-setosa' 'Iris-setosa' 'Iris-setosa' 'Iris-setosa' 'Iris-setosa'\n",
      " 'Iris-setosa' 'Iris-setosa' 'Iris-setosa' 'Iris-setosa' 'Iris-setosa'\n",
      " 'Iris-versicolor' 'Iris-versicolor' 'Iris-versicolor' 'Iris-versicolor'\n",
      " 'Iris-versicolor' 'Iris-versicolor' 'Iris-versicolor' 'Iris-versicolor'\n",
      " 'Iris-versicolor' 'Iris-versicolor' 'Iris-versicolor' 'Iris-versicolor'\n",
      " 'Iris-versicolor' 'Iris-versicolor' 'Iris-versicolor' 'Iris-versicolor'\n",
      " 'Iris-versicolor' 'Iris-versicolor' 'Iris-versicolor' 'Iris-versicolor'\n",
      " 'Iris-versicolor' 'Iris-versicolor' 'Iris-versicolor' 'Iris-versicolor'\n",
      " 'Iris-versicolor' 'Iris-versicolor' 'Iris-versicolor' 'Iris-versicolor'\n",
      " 'Iris-versicolor' 'Iris-versicolor' 'Iris-versicolor' 'Iris-versicolor'\n",
      " 'Iris-versicolor' 'Iris-versicolor' 'Iris-versicolor' 'Iris-versicolor'\n",
      " 'Iris-versicolor' 'Iris-versicolor' 'Iris-versicolor' 'Iris-versicolor'\n",
      " 'Iris-versicolor' 'Iris-versicolor' 'Iris-versicolor' 'Iris-versicolor'\n",
      " 'Iris-versicolor' 'Iris-versicolor' 'Iris-versicolor' 'Iris-versicolor'\n",
      " 'Iris-versicolor' 'Iris-versicolor' 'Iris-virginica' 'Iris-virginica'\n",
      " 'Iris-virginica' 'Iris-virginica' 'Iris-virginica' 'Iris-virginica'\n",
      " 'Iris-virginica' 'Iris-virginica' 'Iris-virginica' 'Iris-virginica'\n",
      " 'Iris-virginica' 'Iris-virginica' 'Iris-virginica' 'Iris-virginica'\n",
      " 'Iris-virginica' 'Iris-virginica' 'Iris-virginica' 'Iris-virginica'\n",
      " 'Iris-virginica' 'Iris-virginica' 'Iris-virginica' 'Iris-virginica'\n",
      " 'Iris-virginica' 'Iris-virginica' 'Iris-virginica' 'Iris-virginica'\n",
      " 'Iris-virginica' 'Iris-virginica' 'Iris-virginica' 'Iris-virginica'\n",
      " 'Iris-virginica' 'Iris-virginica' 'Iris-virginica' 'Iris-virginica'\n",
      " 'Iris-virginica' 'Iris-virginica' 'Iris-virginica' 'Iris-virginica'\n",
      " 'Iris-virginica' 'Iris-virginica' 'Iris-virginica' 'Iris-virginica'\n",
      " 'Iris-virginica' 'Iris-virginica' 'Iris-virginica' 'Iris-virginica'\n",
      " 'Iris-virginica' 'Iris-virginica' 'Iris-virginica' 'Iris-virginica']\n"
     ]
    }
   ],
   "source": [
    "iris = pd.read_csv(\"iris.csv\")\n",
    "\n",
    "X = iris.iloc[:, :-1].values\n",
    "y = iris.iloc[:, 4].values\n",
    "print(\"Attributes:\")\n",
    "print(X)\n",
    "print(\"\\nLabels:\")\n",
    "print(y)\n",
    "\n"
   ]
  },
  {
   "cell_type": "markdown",
   "metadata": {},
   "source": [
    "### Exercise 2."
   ]
  },
  {
   "cell_type": "markdown",
   "metadata": {},
   "source": [
    "Write a Python program using Scikit-learn to split the iris dataset into 70% train data and 30% test data. Out of total 150 records, the training set will contain 120 records and the test set contains 30 of those records. Print both datasets."
   ]
  },
  {
   "cell_type": "markdown",
   "metadata": {},
   "source": [
    "```files/exercise_C.2.py```"
   ]
  },
  {
   "cell_type": "code",
   "execution_count": 132,
   "metadata": {},
   "outputs": [
    {
     "name": "stdout",
     "output_type": "stream",
     "text": [
      "\n",
      "70% train data:\n",
      "[[6.4 2.9 4.3 1.3]\n",
      " [5.  3.  1.6 0.2]\n",
      " [5.4 3.7 1.5 0.2]\n",
      " [4.3 3.  1.1 0.1]\n",
      " [5.5 2.3 4.  1.3]\n",
      " [5.4 3.9 1.3 0.4]\n",
      " [6.6 2.9 4.6 1.3]\n",
      " [5.6 3.  4.1 1.3]\n",
      " [5.5 2.4 3.8 1.1]\n",
      " [4.6 3.6 1.  0.2]\n",
      " [6.7 3.1 5.6 2.4]\n",
      " [6.1 3.  4.6 1.4]\n",
      " [6.9 3.1 4.9 1.5]\n",
      " [6.7 3.3 5.7 2.1]\n",
      " [5.9 3.  4.2 1.5]\n",
      " [7.9 3.8 6.4 2. ]\n",
      " [4.8 3.4 1.9 0.2]\n",
      " [5.  3.2 1.2 0.2]\n",
      " [5.  3.6 1.4 0.2]\n",
      " [6.1 2.8 4.  1.3]\n",
      " [6.4 3.2 4.5 1.5]\n",
      " [6.3 2.3 4.4 1.3]\n",
      " [6.8 3.  5.5 2.1]\n",
      " [5.4 3.9 1.7 0.4]\n",
      " [6.9 3.1 5.1 2.3]\n",
      " [5.6 2.7 4.2 1.3]\n",
      " [6.5 3.  5.5 1.8]\n",
      " [5.8 2.8 5.1 2.4]\n",
      " [6.4 3.2 5.3 2.3]\n",
      " [5.7 2.6 3.5 1. ]\n",
      " [6.7 2.5 5.8 1.8]\n",
      " [6.4 2.7 5.3 1.9]\n",
      " [6.7 3.  5.  1.7]\n",
      " [5.6 2.9 3.6 1.3]\n",
      " [6.5 3.  5.2 2. ]\n",
      " [5.  2.  3.5 1. ]\n",
      " [6.5 3.  5.8 2.2]\n",
      " [4.8 3.4 1.6 0.2]\n",
      " [7.2 3.6 6.1 2.5]\n",
      " [7.4 2.8 6.1 1.9]\n",
      " [6.4 3.1 5.5 1.8]\n",
      " [7.7 2.6 6.9 2.3]\n",
      " [5.4 3.4 1.5 0.4]\n",
      " [6.1 2.6 5.6 1.4]\n",
      " [5.5 2.4 3.7 1. ]\n",
      " [6.3 2.7 4.9 1.8]\n",
      " [5.2 2.7 3.9 1.4]\n",
      " [5.1 3.8 1.5 0.3]\n",
      " [7.2 3.  5.8 1.6]\n",
      " [6.3 2.5 4.9 1.5]\n",
      " [5.2 3.4 1.4 0.2]\n",
      " [5.7 2.8 4.1 1.3]\n",
      " [6.2 3.4 5.4 2.3]\n",
      " [4.6 3.2 1.4 0.2]\n",
      " [6.5 3.2 5.1 2. ]\n",
      " [4.8 3.1 1.6 0.2]\n",
      " [5.1 3.5 1.4 0.2]\n",
      " [5.3 3.7 1.5 0.2]\n",
      " [5.  3.4 1.5 0.2]\n",
      " [7.7 3.  6.1 2.3]\n",
      " [6.7 3.1 4.7 1.5]\n",
      " [6.1 2.9 4.7 1.4]\n",
      " [7.6 3.  6.6 2.1]\n",
      " [6.2 2.2 4.5 1.5]\n",
      " [7.1 3.  5.9 2.1]\n",
      " [4.4 2.9 1.4 0.2]\n",
      " [4.5 2.3 1.3 0.3]\n",
      " [6.2 2.9 4.3 1.3]\n",
      " [5.1 3.8 1.6 0.2]\n",
      " [5.8 2.7 5.1 1.9]\n",
      " [6.3 3.4 5.6 2.4]\n",
      " [4.9 3.1 1.5 0.1]\n",
      " [5.8 2.7 5.1 1.9]\n",
      " [5.5 2.5 4.  1.3]\n",
      " [6.6 3.  4.4 1.4]\n",
      " [5.6 2.8 4.9 2. ]\n",
      " [6.8 2.8 4.8 1.4]\n",
      " [5.7 3.  4.2 1.2]\n",
      " [6.9 3.2 5.7 2.3]\n",
      " [6.  2.2 5.  1.5]\n",
      " [6.3 2.9 5.6 1.8]\n",
      " [6.1 2.8 4.7 1.2]\n",
      " [6.  2.9 4.5 1.5]\n",
      " [7.2 3.2 6.  1.8]\n",
      " [5.2 3.5 1.5 0.2]\n",
      " [6.3 2.5 5.  1.9]\n",
      " [4.8 3.  1.4 0.1]\n",
      " [6.3 3.3 4.7 1.6]\n",
      " [5.2 4.1 1.5 0.1]\n",
      " [4.9 2.5 4.5 1.7]\n",
      " [6.  3.  4.8 1.8]\n",
      " [5.  3.5 1.6 0.6]\n",
      " [5.7 4.4 1.5 0.4]\n",
      " [5.9 3.  5.1 1.8]\n",
      " [5.1 3.3 1.7 0.5]\n",
      " [4.7 3.2 1.3 0.2]\n",
      " [7.7 3.8 6.7 2.2]\n",
      " [4.9 3.1 1.5 0.1]\n",
      " [6.9 3.1 5.4 2.1]\n",
      " [6.4 2.8 5.6 2.1]\n",
      " [7.7 2.8 6.7 2. ]\n",
      " [6.5 2.8 4.6 1.5]\n",
      " [4.4 3.2 1.3 0.2]\n",
      " [6.2 2.8 4.8 1.8]\n",
      " [5.4 3.4 1.7 0.2]\n",
      " [5.8 4.  1.2 0.2]\n",
      " [4.9 3.  1.4 0.2]\n",
      " [6.4 2.8 5.6 2.2]\n",
      " [6.7 3.  5.2 2.3]\n",
      " [5.7 2.5 5.  2. ]\n",
      " [4.8 3.  1.4 0.3]\n",
      " [5.  3.4 1.6 0.4]\n",
      " [5.  2.3 3.3 1. ]\n",
      " [5.5 4.2 1.4 0.2]\n",
      " [5.5 3.5 1.3 0.2]\n",
      " [6.7 3.3 5.7 2.5]\n",
      " [5.  3.3 1.4 0.2]\n",
      " [4.7 3.2 1.6 0.2]\n",
      " [6.  2.7 5.1 1.6]\n",
      " [5.8 2.6 4.  1.2]]\n",
      "['Iris-versicolor' 'Iris-setosa' 'Iris-setosa' 'Iris-setosa'\n",
      " 'Iris-versicolor' 'Iris-setosa' 'Iris-versicolor' 'Iris-versicolor'\n",
      " 'Iris-versicolor' 'Iris-setosa' 'Iris-virginica' 'Iris-versicolor'\n",
      " 'Iris-versicolor' 'Iris-virginica' 'Iris-versicolor' 'Iris-virginica'\n",
      " 'Iris-setosa' 'Iris-setosa' 'Iris-setosa' 'Iris-versicolor'\n",
      " 'Iris-versicolor' 'Iris-versicolor' 'Iris-virginica' 'Iris-setosa'\n",
      " 'Iris-virginica' 'Iris-versicolor' 'Iris-virginica' 'Iris-virginica'\n",
      " 'Iris-virginica' 'Iris-versicolor' 'Iris-virginica' 'Iris-virginica'\n",
      " 'Iris-versicolor' 'Iris-versicolor' 'Iris-virginica' 'Iris-versicolor'\n",
      " 'Iris-virginica' 'Iris-setosa' 'Iris-virginica' 'Iris-virginica'\n",
      " 'Iris-virginica' 'Iris-virginica' 'Iris-setosa' 'Iris-virginica'\n",
      " 'Iris-versicolor' 'Iris-virginica' 'Iris-versicolor' 'Iris-setosa'\n",
      " 'Iris-virginica' 'Iris-versicolor' 'Iris-setosa' 'Iris-versicolor'\n",
      " 'Iris-virginica' 'Iris-setosa' 'Iris-virginica' 'Iris-setosa'\n",
      " 'Iris-setosa' 'Iris-setosa' 'Iris-setosa' 'Iris-virginica'\n",
      " 'Iris-versicolor' 'Iris-versicolor' 'Iris-virginica' 'Iris-versicolor'\n",
      " 'Iris-virginica' 'Iris-setosa' 'Iris-setosa' 'Iris-versicolor'\n",
      " 'Iris-setosa' 'Iris-virginica' 'Iris-virginica' 'Iris-setosa'\n",
      " 'Iris-virginica' 'Iris-versicolor' 'Iris-versicolor' 'Iris-virginica'\n",
      " 'Iris-versicolor' 'Iris-versicolor' 'Iris-virginica' 'Iris-virginica'\n",
      " 'Iris-virginica' 'Iris-versicolor' 'Iris-versicolor' 'Iris-virginica'\n",
      " 'Iris-setosa' 'Iris-virginica' 'Iris-setosa' 'Iris-versicolor'\n",
      " 'Iris-setosa' 'Iris-virginica' 'Iris-virginica' 'Iris-setosa'\n",
      " 'Iris-setosa' 'Iris-virginica' 'Iris-setosa' 'Iris-setosa'\n",
      " 'Iris-virginica' 'Iris-setosa' 'Iris-virginica' 'Iris-virginica'\n",
      " 'Iris-virginica' 'Iris-versicolor' 'Iris-setosa' 'Iris-virginica'\n",
      " 'Iris-setosa' 'Iris-setosa' 'Iris-setosa' 'Iris-virginica'\n",
      " 'Iris-virginica' 'Iris-virginica' 'Iris-setosa' 'Iris-setosa'\n",
      " 'Iris-versicolor' 'Iris-setosa' 'Iris-setosa' 'Iris-virginica'\n",
      " 'Iris-setosa' 'Iris-setosa' 'Iris-versicolor' 'Iris-versicolor']\n",
      "\n",
      "30% test data:\n",
      "[[7.  3.2 4.7 1.4]\n",
      " [5.8 2.7 3.9 1.2]\n",
      " [5.7 2.8 4.5 1.3]\n",
      " [5.1 3.4 1.5 0.2]\n",
      " [4.9 3.1 1.5 0.1]\n",
      " [5.9 3.2 4.8 1.8]\n",
      " [6.  3.4 4.5 1.6]\n",
      " [7.3 2.9 6.3 1.8]\n",
      " [6.3 2.8 5.1 1.5]\n",
      " [6.3 3.3 6.  2.5]\n",
      " [5.7 3.8 1.7 0.3]\n",
      " [6.8 3.2 5.9 2.3]\n",
      " [6.1 3.  4.9 1.8]\n",
      " [4.6 3.4 1.4 0.3]\n",
      " [5.1 3.7 1.5 0.4]\n",
      " [4.4 3.  1.3 0.2]\n",
      " [5.5 2.6 4.4 1.2]\n",
      " [5.8 2.7 4.1 1. ]\n",
      " [5.1 2.5 3.  1.1]\n",
      " [5.  3.5 1.3 0.3]\n",
      " [5.1 3.5 1.4 0.3]\n",
      " [5.6 2.5 3.9 1.1]\n",
      " [4.9 2.4 3.3 1. ]\n",
      " [6.7 3.1 4.4 1.4]\n",
      " [4.6 3.1 1.5 0.2]\n",
      " [5.4 3.  4.5 1.5]\n",
      " [6.  2.2 4.  1. ]\n",
      " [5.1 3.8 1.9 0.4]\n",
      " [5.6 3.  4.5 1.5]\n",
      " [5.7 2.9 4.2 1.3]]\n",
      "['Iris-versicolor' 'Iris-versicolor' 'Iris-versicolor' 'Iris-setosa'\n",
      " 'Iris-setosa' 'Iris-versicolor' 'Iris-versicolor' 'Iris-virginica'\n",
      " 'Iris-virginica' 'Iris-virginica' 'Iris-setosa' 'Iris-virginica'\n",
      " 'Iris-virginica' 'Iris-setosa' 'Iris-setosa' 'Iris-setosa'\n",
      " 'Iris-versicolor' 'Iris-versicolor' 'Iris-versicolor' 'Iris-setosa'\n",
      " 'Iris-setosa' 'Iris-versicolor' 'Iris-versicolor' 'Iris-versicolor'\n",
      " 'Iris-setosa' 'Iris-versicolor' 'Iris-versicolor' 'Iris-setosa'\n",
      " 'Iris-versicolor' 'Iris-versicolor']\n"
     ]
    }
   ],
   "source": [
    "iris = pd.read_csv(\"iris.csv\")\n",
    "X = iris.iloc[:, :-1].values\n",
    "y = iris.iloc[:, 4].values\n",
    "#Split arrays or matrices into random train and test subsets\n",
    "X_train, X_test, y_train, y_test = train_test_split(X, y, test_size=0.20)\n",
    "print(\"\\n70% train data:\")\n",
    "print(X_train)\n",
    "print(y_train)\n",
    "print(\"\\n30% test data:\")\n",
    "print(X_test)\n",
    "print(y_test)\n"
   ]
  },
  {
   "cell_type": "markdown",
   "metadata": {},
   "source": [
    "### Exercise 3."
   ]
  },
  {
   "cell_type": "markdown",
   "metadata": {},
   "source": [
    "Write a Python program using Scikit-learn to convert Species columns in a numerical column of the iris dataframe. To encode this data map convert each value to a number. e.g. Iris-setosa:0, Iris-versicolor:1, and Iris-virginica:2. Now print the iris dataset into 80% train data and 20% test data. Out of total 150 records, the training set will contain 120 records and the test set contains 30 of those records. Print both datasets."
   ]
  },
  {
   "cell_type": "markdown",
   "metadata": {},
   "source": [
    "```files/exercise_C.3.py```"
   ]
  },
  {
   "cell_type": "code",
   "execution_count": 134,
   "metadata": {},
   "outputs": [
    {
     "name": "stdout",
     "output_type": "stream",
     "text": [
      "\n",
      "80% train data:\n",
      "[[5.5 2.5 4.  1.3]\n",
      " [5.1 3.8 1.6 0.2]\n",
      " [7.1 3.  5.9 2.1]\n",
      " [4.7 3.2 1.6 0.2]\n",
      " [6.8 3.2 5.9 2.3]\n",
      " [5.  2.  3.5 1. ]\n",
      " [6.1 3.  4.9 1.8]\n",
      " [4.7 3.2 1.3 0.2]\n",
      " [6.3 2.9 5.6 1.8]\n",
      " [6.4 2.7 5.3 1.9]\n",
      " [5.  3.  1.6 0.2]\n",
      " [7.7 3.8 6.7 2.2]\n",
      " [5.7 4.4 1.5 0.4]\n",
      " [4.4 3.2 1.3 0.2]\n",
      " [6.7 3.3 5.7 2.5]\n",
      " [6.  2.9 4.5 1.5]\n",
      " [6.4 3.2 5.3 2.3]\n",
      " [5.6 2.7 4.2 1.3]\n",
      " [6.5 2.8 4.6 1.5]\n",
      " [6.1 2.8 4.7 1.2]\n",
      " [5.5 3.5 1.3 0.2]\n",
      " [6.2 2.8 4.8 1.8]\n",
      " [6.7 3.3 5.7 2.1]\n",
      " [4.6 3.6 1.  0.2]\n",
      " [6.2 3.4 5.4 2.3]\n",
      " [7.9 3.8 6.4 2. ]\n",
      " [5.5 2.4 3.7 1. ]\n",
      " [7.  3.2 4.7 1.4]\n",
      " [5.6 2.5 3.9 1.1]\n",
      " [5.8 2.7 5.1 1.9]\n",
      " [4.3 3.  1.1 0.1]\n",
      " [6.5 3.  5.2 2. ]\n",
      " [5.6 3.  4.5 1.5]\n",
      " [6.9 3.1 5.1 2.3]\n",
      " [6.1 2.8 4.  1.3]\n",
      " [6.3 3.4 5.6 2.4]\n",
      " [5.6 2.8 4.9 2. ]\n",
      " [6.7 2.5 5.8 1.8]\n",
      " [4.8 3.4 1.9 0.2]\n",
      " [5.1 3.5 1.4 0.2]\n",
      " [6.4 2.8 5.6 2.2]\n",
      " [7.6 3.  6.6 2.1]\n",
      " [4.9 2.4 3.3 1. ]\n",
      " [7.2 3.6 6.1 2.5]\n",
      " [6.5 3.2 5.1 2. ]\n",
      " [5.  3.6 1.4 0.2]\n",
      " [4.8 3.  1.4 0.3]\n",
      " [6.9 3.1 5.4 2.1]\n",
      " [5.4 3.4 1.7 0.2]\n",
      " [5.1 2.5 3.  1.1]\n",
      " [6.  3.4 4.5 1.6]\n",
      " [4.4 3.  1.3 0.2]\n",
      " [5.7 2.8 4.5 1.3]\n",
      " [5.5 2.3 4.  1.3]\n",
      " [6.6 3.  4.4 1.4]\n",
      " [5.1 3.8 1.5 0.3]\n",
      " [4.8 3.1 1.6 0.2]\n",
      " [6.3 2.3 4.4 1.3]\n",
      " [5.6 3.  4.1 1.3]\n",
      " [6.1 2.9 4.7 1.4]\n",
      " [5.1 3.8 1.9 0.4]\n",
      " [5.  3.4 1.5 0.2]\n",
      " [5.5 4.2 1.4 0.2]\n",
      " [6.  2.2 4.  1. ]\n",
      " [5.4 3.9 1.7 0.4]\n",
      " [5.7 2.6 3.5 1. ]\n",
      " [6.7 3.1 5.6 2.4]\n",
      " [4.8 3.4 1.6 0.2]\n",
      " [6.7 3.1 4.7 1.5]\n",
      " [5.5 2.6 4.4 1.2]\n",
      " [5.  3.4 1.6 0.4]\n",
      " [7.7 2.6 6.9 2.3]\n",
      " [5.7 2.5 5.  2. ]\n",
      " [6.3 3.3 4.7 1.6]\n",
      " [6.2 2.2 4.5 1.5]\n",
      " [6.9 3.1 4.9 1.5]\n",
      " [4.8 3.  1.4 0.1]\n",
      " [7.2 3.2 6.  1.8]\n",
      " [4.9 3.  1.4 0.2]\n",
      " [5.4 3.7 1.5 0.2]\n",
      " [5.8 2.7 4.1 1. ]\n",
      " [5.1 3.4 1.5 0.2]\n",
      " [4.4 2.9 1.4 0.2]\n",
      " [6.7 3.  5.2 2.3]\n",
      " [6.3 2.7 4.9 1.8]\n",
      " [6.4 2.8 5.6 2.1]\n",
      " [5.9 3.  5.1 1.8]\n",
      " [5.2 3.4 1.4 0.2]\n",
      " [4.9 3.1 1.5 0.1]\n",
      " [6.  2.7 5.1 1.6]\n",
      " [5.8 2.7 5.1 1.9]\n",
      " [6.8 2.8 4.8 1.4]\n",
      " [7.7 2.8 6.7 2. ]\n",
      " [5.  3.2 1.2 0.2]\n",
      " [5.9 3.  4.2 1.5]\n",
      " [4.6 3.1 1.5 0.2]\n",
      " [5.  3.5 1.6 0.6]\n",
      " [5.  3.3 1.4 0.2]\n",
      " [5.2 3.5 1.5 0.2]\n",
      " [6.1 2.6 5.6 1.4]\n",
      " [5.7 3.  4.2 1.2]\n",
      " [6.5 3.  5.5 1.8]\n",
      " [5.2 2.7 3.9 1.4]\n",
      " [5.5 2.4 3.8 1.1]\n",
      " [5.8 2.6 4.  1.2]\n",
      " [5.9 3.2 4.8 1.8]\n",
      " [6.2 2.9 4.3 1.3]\n",
      " [5.7 2.8 4.1 1.3]\n",
      " [5.6 2.9 3.6 1.3]\n",
      " [4.6 3.4 1.4 0.3]\n",
      " [5.7 3.8 1.7 0.3]\n",
      " [6.1 3.  4.6 1.4]\n",
      " [6.3 2.5 5.  1.9]\n",
      " [5.8 4.  1.2 0.2]\n",
      " [7.2 3.  5.8 1.6]\n",
      " [7.4 2.8 6.1 1.9]\n",
      " [6.9 3.2 5.7 2.3]\n",
      " [6.8 3.  5.5 2.1]\n",
      " [6.5 3.  5.8 2.2]\n",
      " [6.4 2.9 4.3 1.3]]\n",
      "[1 0 2 0 2 1 2 0 2 2 0 2 0 0 2 1 2 1 1 1 0 2 2 0 2 2 1 1 1 2 0 2 1 2 1 2 2\n",
      " 2 0 0 2 2 1 2 2 0 0 2 0 1 1 0 1 1 1 0 0 1 1 1 0 0 0 1 0 1 2 0 1 1 0 2 2 1\n",
      " 1 1 0 2 0 0 1 0 0 2 2 2 2 0 0 1 2 1 2 0 1 0 0 0 0 2 1 2 1 1 1 1 1 1 1 0 0\n",
      " 1 2 0 2 2 2 2 2 1]\n",
      "\n",
      "20% test data:\n",
      "[[4.9 3.1 1.5 0.1]\n",
      " [4.5 2.3 1.3 0.3]\n",
      " [5.8 2.8 5.1 2.4]\n",
      " [5.8 2.7 3.9 1.2]\n",
      " [5.3 3.7 1.5 0.2]\n",
      " [5.4 3.  4.5 1.5]\n",
      " [7.3 2.9 6.3 1.8]\n",
      " [5.4 3.4 1.5 0.4]\n",
      " [6.4 3.1 5.5 1.8]\n",
      " [6.7 3.1 4.4 1.4]\n",
      " [4.9 3.1 1.5 0.1]\n",
      " [5.  3.5 1.3 0.3]\n",
      " [6.3 3.3 6.  2.5]\n",
      " [6.3 2.8 5.1 1.5]\n",
      " [6.6 2.9 4.6 1.3]\n",
      " [5.2 4.1 1.5 0.1]\n",
      " [5.1 3.3 1.7 0.5]\n",
      " [6.7 3.  5.  1.7]\n",
      " [4.9 2.5 4.5 1.7]\n",
      " [6.3 2.5 4.9 1.5]\n",
      " [5.1 3.5 1.4 0.3]\n",
      " [5.  2.3 3.3 1. ]\n",
      " [6.4 3.2 4.5 1.5]\n",
      " [5.7 2.9 4.2 1.3]\n",
      " [6.  2.2 5.  1.5]\n",
      " [4.6 3.2 1.4 0.2]\n",
      " [6.  3.  4.8 1.8]\n",
      " [5.1 3.7 1.5 0.4]\n",
      " [5.4 3.9 1.3 0.4]\n",
      " [7.7 3.  6.1 2.3]]\n",
      "[0 0 2 1 0 1 2 0 2 1 0 0 2 2 1 0 0 1 2 1 0 1 1 1 2 0 2 0 0 2]\n"
     ]
    }
   ],
   "source": [
    "iris = pd.read_csv(\"iris.csv\")\n",
    "#creating labelEncoder\n",
    "le = preprocessing.LabelEncoder()\n",
    "# Converting string labels into numbers.\n",
    "iris.Name = le.fit_transform(iris.Name)\n",
    "X = iris.iloc[:, :-1].values\n",
    "y = iris.iloc[:, 4].values\n",
    "#Split arrays or matrices into random train and test subsets\n",
    "X_train, X_test, y_train, y_test = train_test_split(X, y, test_size=0.20)\n",
    "print(\"\\n80% train data:\")\n",
    "print(X_train)\n",
    "print(y_train)\n",
    "print(\"\\n20% test data:\")\n",
    "print(X_test)\n",
    "print(y_test)"
   ]
  },
  {
   "cell_type": "markdown",
   "metadata": {},
   "source": [
    "### Exercise 4."
   ]
  },
  {
   "cell_type": "markdown",
   "metadata": {},
   "source": [
    "Write a Python program using Scikit-learn to split the iris dataset into 70% train data and 30% test data. Out of total 150 records, the training set will contain 105 records and the test set contains 45 of those records. Predict the response for test dataset (SepalLengthCm, SepalWidthCm, PetalLengthCm, PetalWidthCm) using the K Nearest Neighbor Algorithm. Use 5 as number of neighbors."
   ]
  },
  {
   "cell_type": "markdown",
   "metadata": {},
   "source": [
    "```files/exercise_C.4.py```"
   ]
  },
  {
   "cell_type": "code",
   "execution_count": 136,
   "metadata": {},
   "outputs": [
    {
     "name": "stdout",
     "output_type": "stream",
     "text": [
      "Response for test dataset:\n",
      "['Iris-versicolor' 'Iris-versicolor' 'Iris-setosa' 'Iris-versicolor'\n",
      " 'Iris-versicolor' 'Iris-versicolor' 'Iris-setosa' 'Iris-virginica'\n",
      " 'Iris-setosa' 'Iris-virginica' 'Iris-virginica' 'Iris-setosa'\n",
      " 'Iris-virginica' 'Iris-setosa' 'Iris-setosa' 'Iris-virginica'\n",
      " 'Iris-setosa' 'Iris-versicolor' 'Iris-virginica' 'Iris-setosa'\n",
      " 'Iris-versicolor' 'Iris-virginica' 'Iris-virginica' 'Iris-setosa'\n",
      " 'Iris-versicolor' 'Iris-versicolor' 'Iris-virginica' 'Iris-virginica'\n",
      " 'Iris-versicolor' 'Iris-virginica' 'Iris-setosa' 'Iris-virginica'\n",
      " 'Iris-setosa' 'Iris-virginica' 'Iris-versicolor' 'Iris-setosa'\n",
      " 'Iris-setosa' 'Iris-virginica' 'Iris-versicolor' 'Iris-virginica'\n",
      " 'Iris-versicolor' 'Iris-versicolor' 'Iris-versicolor' 'Iris-setosa'\n",
      " 'Iris-virginica']\n"
     ]
    }
   ],
   "source": [
    "iris = pd.read_csv(\"iris.csv\")\n",
    "X = iris.iloc[:, :-1].values\n",
    "y = iris.iloc[:, 4].values\n",
    "#Split arrays or matrices into random train and test subsets\n",
    "X_train, X_test, y_train, y_test = train_test_split(X, y, test_size=0.30)\n",
    "'''\n",
    "print(\"\\n70% train data:\")\n",
    "print(X_train)\n",
    "print(y_train)\n",
    "print(\"\\n30% test data:\")\n",
    "print(X_test)\n",
    "print(y_test)\n",
    "'''\n",
    "#Create KNN Classifier\n",
    "#Number of neighbors to use by default for kneighbors queries.\n",
    "knn = KNeighborsClassifier(n_neighbors=5)\n",
    "#Train the model using the training sets\n",
    "knn.fit(X_train, y_train)\n",
    "#Predict the response for test dataset\n",
    "print(\"Response for test dataset:\")\n",
    "y_pred = knn.predict(X_test)\n",
    "print(y_pred)"
   ]
  },
  {
   "cell_type": "markdown",
   "metadata": {},
   "source": [
    "### Exercise 5."
   ]
  },
  {
   "cell_type": "markdown",
   "metadata": {},
   "source": [
    "Write a Python program using Scikit-learn to split the iris dataset into 80% train data and 20% test data. Out of total 150 records, the training set will contain 120 records and the test set contains 30 of those records. Train or fit the data into the model and calculate the accuracy of the model using the K Nearest Neighbor Algorithm."
   ]
  },
  {
   "cell_type": "markdown",
   "metadata": {},
   "source": [
    "```files/exercise_C.5.py```"
   ]
  },
  {
   "cell_type": "code",
   "execution_count": 137,
   "metadata": {},
   "outputs": [
    {
     "name": "stdout",
     "output_type": "stream",
     "text": [
      "Accuracy of the model:\n",
      "0.9\n"
     ]
    }
   ],
   "source": [
    "iris = pd.read_csv(\"iris.csv\")\n",
    "X = iris.iloc[:, :-1].values\n",
    "y = iris.iloc[:, 4].values\n",
    "#Split arrays or matrices into train and test subsets\n",
    "X_train, X_test, y_train, y_test = train_test_split(X, y, test_size=0.20) \n",
    "knn = KNeighborsClassifier(n_neighbors=7)  \n",
    "knn.fit(X_train, y_train)   \n",
    "# Calculate the accuracy of the model \n",
    "print(\"Accuracy of the model:\")\n",
    "print(knn.score(X_test, y_test))"
   ]
  },
  {
   "cell_type": "markdown",
   "metadata": {},
   "source": [
    "### Exercise 6."
   ]
  },
  {
   "cell_type": "markdown",
   "metadata": {},
   "source": [
    "Write a Python program using Scikit-learn to split the iris dataset into 80% train data and 20% test data. Out of total 150 records, the training set will contain 120 records and the test set contains 30 of those records. Train or fit the data into the model and using the K Nearest Neighbor Algorithm calculate the performance for different values of k."
   ]
  },
  {
   "cell_type": "markdown",
   "metadata": {},
   "source": [
    "```files/exercise_C.6.py```"
   ]
  },
  {
   "cell_type": "code",
   "execution_count": 138,
   "metadata": {},
   "outputs": [
    {
     "name": "stdout",
     "output_type": "stream",
     "text": [
      "For k = 1 accuracy is 0.9666666666666667\n",
      "For k = 2 accuracy is 0.9333333333333333\n",
      "For k = 3 accuracy is 0.9666666666666667\n",
      "For k = 4 accuracy is 0.9666666666666667\n",
      "For k = 5 accuracy is 0.9666666666666667\n",
      "For k = 6 accuracy is 0.9666666666666667\n",
      "For k = 7 accuracy is 0.9666666666666667\n",
      "For k = 8 accuracy is 0.9666666666666667\n",
      "For k = 9 accuracy is 0.9666666666666667\n"
     ]
    }
   ],
   "source": [
    "iris = pd.read_csv(\"iris.csv\")\n",
    "X = iris.iloc[:, :-1].values\n",
    "y = iris.iloc[:, 4].values\n",
    "#Split arrays or matrices into train and test subsets\n",
    "X_train, X_test, y_train, y_test = train_test_split(X, y, test_size=0.20) \n",
    "knn = KNeighborsClassifier(n_neighbors=7)  \n",
    "knn.fit(X_train, y_train)   \n",
    "# Calculate the accuracy of the model for different values of k\n",
    "for i in np.arange(1, 10):\n",
    "    knn2 = KNeighborsClassifier(n_neighbors=i)\n",
    "    knn2.fit(X_train, y_train)\n",
    "    print(\"For k = %d accuracy is\"%i,knn2.score(X_test,y_test))"
   ]
  },
  {
   "cell_type": "markdown",
   "metadata": {},
   "source": [
    "### Exercise 7."
   ]
  },
  {
   "cell_type": "markdown",
   "metadata": {},
   "source": [
    "Write a Python program using Scikit-learn to split the iris dataset into 80% train data and 20% test data. Out of total 150 records, the training set will contain 120 records and the test set contains 30 of those records. Train or fit the data into the model and using the K Nearest Neighbor Algorithm and create a plot to present the performance for different values of k."
   ]
  },
  {
   "cell_type": "markdown",
   "metadata": {},
   "source": [
    "```files/exercise_C.7.py```"
   ]
  },
  {
   "cell_type": "code",
   "execution_count": 140,
   "metadata": {},
   "outputs": [
    {
     "name": "stdout",
     "output_type": "stream",
     "text": [
      "For k = 1 accuracy is 0.9666666666666667\n",
      "For k = 2 accuracy is 0.9666666666666667\n",
      "For k = 3 accuracy is 0.9666666666666667\n",
      "For k = 4 accuracy is 1.0\n",
      "For k = 5 accuracy is 1.0\n",
      "For k = 6 accuracy is 1.0\n",
      "For k = 7 accuracy is 1.0\n",
      "For k = 8 accuracy is 1.0\n",
      "For k = 9 accuracy is 1.0\n",
      "\n",
      "Visual presentation: Various values of n for K-Nearest nerighbours:\n"
     ]
    },
    {
     "name": "stderr",
     "output_type": "stream",
     "text": [
      "C:\\Users\\gabes\\miniconda3\\lib\\site-packages\\ipykernel_launcher.py:9: DeprecationWarning: The default dtype for empty Series will be 'object' instead of 'float64' in a future version. Specify a dtype explicitly to silence this warning.\n",
      "  if __name__ == '__main__':\n"
     ]
    },
    {
     "data": {
      "text/plain": [
       "[<matplotlib.lines.Line2D at 0x150afff3908>]"
      ]
     },
     "execution_count": 140,
     "metadata": {},
     "output_type": "execute_result"
    },
    {
     "data": {
      "image/png": "[encoded data removed]",
      "text/plain": [
       "<Figure size 144x1080 with 1 Axes>"
      ]
     },
     "metadata": {},
     "output_type": "display_data"
    }
   ],
   "source": [
    "iris = pd.read_csv(\"iris.csv\")\n",
    "X = iris.iloc[:, :-1].values\n",
    "y = iris.iloc[:, 4].values\n",
    "#Split arrays or matrices into train and test subsets\n",
    "X_train, X_test, y_train, y_test = train_test_split(X, y, test_size=0.20) \n",
    "knn = KNeighborsClassifier(n_neighbors=7)  \n",
    "knn.fit(X_train, y_train)   \n",
    "a_index=list(range(1,11))\n",
    "a=pd.Series()\n",
    "# Calculate the accuracy of the model for different values of k\n",
    "for i in np.arange(1, 10):\n",
    "    knn2 = KNeighborsClassifier(n_neighbors=i)\n",
    "    knn2.fit(X_train, y_train)\n",
    "    print(\"For k = %d accuracy is\"%i,knn2.score(X_test,y_test))\n",
    "# Visual presentation: Various values of n for K-Nearest nerighbours\n",
    "print(\"\\nVisual presentation: Various values of n for K-Nearest nerighbours:\")    \n",
    "for i in list(range(1,11)):\n",
    "    model=KNeighborsClassifier(n_neighbors=i) \n",
    "    model.fit(X_train,y_train)\n",
    "    prediction=model.predict(X_test)\n",
    "    a=a.append(pd.Series(metrics.accuracy_score(prediction,y_test)))\n",
    "plt.plot(a_index, a)"
   ]
  },
  {
   "cell_type": "markdown",
   "metadata": {},
   "source": [
    "### Exercise 8."
   ]
  },
  {
   "cell_type": "markdown",
   "metadata": {},
   "source": [
    "Write a Python program using Scikit-learn to split the iris dataset into 80% train data and 20% test data. Out of total 150 records, the training set will contain 120 records and the test set contains 30 of those records. Train or fit the data into the model and using the K Nearest Neighbor Algorithm and create a plot of k values vs accuracy."
   ]
  },
  {
   "cell_type": "markdown",
   "metadata": {},
   "source": [
    "```files/exercise_C.8.py```"
   ]
  },
  {
   "cell_type": "code",
   "execution_count": 141,
   "metadata": {},
   "outputs": [
    {
     "name": "stdout",
     "output_type": "stream",
     "text": [
      "Preliminary model score:\n",
      "0.9666666666666667\n"
     ]
    },
    {
     "data": {
      "image/png": "[encoded data removed]",
      "text/plain": [
       "<Figure size 144x1080 with 1 Axes>"
      ]
     },
     "metadata": {},
     "output_type": "display_data"
    }
   ],
   "source": [
    "iris = pd.read_csv(\"iris.csv\")\n",
    "X = iris.iloc[:, :-1].values\n",
    "y = iris.iloc[:, 4].values\n",
    "#Split arrays or matrices into train and test subsets\n",
    "X_train, X_test, y_train, y_test = train_test_split(X, y, test_size=0.20) \n",
    "knn = KNeighborsClassifier(n_neighbors=7)  \n",
    "knn = KNeighborsClassifier(n_neighbors=6)\n",
    "knn.fit(X_train,y_train)\n",
    "\n",
    "print(\"Preliminary model score:\")\n",
    "print(knn.score(X_test,y_test))\n",
    "\n",
    "no_neighbors = np.arange(1, 9)\n",
    "train_accuracy = np.empty(len(no_neighbors))\n",
    "test_accuracy = np.empty(len(no_neighbors))\n",
    "\n",
    "for i, k in enumerate(no_neighbors):\n",
    "    # We instantiate the classifier\n",
    "    knn = KNeighborsClassifier(n_neighbors=k)\n",
    "    # Fit the classifier to the training data\n",
    "    knn.fit(X_train,y_train)\n",
    "    \n",
    "    # Compute accuracy on the training set\n",
    "    train_accuracy[i] = knn.score(X_train, y_train)\n",
    "\n",
    "    # Compute accuracy on the testing set\n",
    "    test_accuracy[i] = knn.score(X_test, y_test)\n",
    "\n",
    "# Visualization of k values vs accuracy\n",
    "\n",
    "plt.title('k-NN: Varying Number of Neighbors')\n",
    "plt.plot(no_neighbors, test_accuracy, label = 'Testing Accuracy')\n",
    "plt.plot(no_neighbors, train_accuracy, label = 'Training Accuracy')\n",
    "plt.legend()\n",
    "plt.xlabel('Number of Neighbors')\n",
    "plt.ylabel('Accuracy')\n",
    "plt.show()"
   ]
  }
 ],
 "metadata": {
  "kernelspec": {
   "display_name": "Python 3",
   "language": "python",
   "name": "python3"
  },
  "language_info": {
   "codemirror_mode": {
    "name": "ipython",
    "version": 3
   },
   "file_extension": ".py",
   "mimetype": "text/x-python",
   "name": "python",
   "nbconvert_exporter": "python",
   "pygments_lexer": "ipython3",
   "version": "3.8.5"
  }
 },
 "nbformat": 4,
 "nbformat_minor": 4
}
